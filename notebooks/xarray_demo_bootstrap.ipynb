{
 "cells": [
  {
   "cell_type": "markdown",
   "metadata": {},
   "source": [
    "# Xarray: a very short demo\n",
    "\n",
    "Website: https://xarray.pydata.org\n",
    "\n",
    "Xarray provides handy Python objects for dealing with this kind of data (i.e., a set of 1-d, 2-d, 3-d, n-dimensional arrays that share common dimensions that may have a physical meaning):\n",
    "\n",
    "![Xarray data model](assets/xarray-dataset-diagram.png \"Xarray data model\")\n",
    "\n",
    "(source: Xarray documentation)\n",
    "\n",
    "Think like a netCDF file loaded in memory...\n",
    "\n",
    "---"
   ]
  },
  {
   "cell_type": "code",
   "execution_count": null,
   "metadata": {},
   "outputs": [],
   "source": []
  }
 ],
 "metadata": {
  "kernelspec": {
   "display_name": "Python [conda env:fastscape_dev]",
   "language": "python",
   "name": "conda-env-fastscape_dev-py"
  },
  "language_info": {
   "codemirror_mode": {
    "name": "ipython",
    "version": 3
   },
   "file_extension": ".py",
   "mimetype": "text/x-python",
   "name": "python",
   "nbconvert_exporter": "python",
   "pygments_lexer": "ipython3",
   "version": "3.7.6"
  }
 },
 "nbformat": 4,
 "nbformat_minor": 4
}
