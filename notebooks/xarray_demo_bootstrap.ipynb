{
 "cells": [
  {
   "cell_type": "markdown",
   "metadata": {},
   "source": [
    "# Xarray: a very short demo\n",
    "\n",
    "Xarray provides handy Python objects for dealing with a set of 1-d, 2-d, 3-d, n-dimensional arrays that share common dimensions (those may have a physical meaning).\n",
    "\n",
    "Think like a netCDF file loaded as a Python object with many capabilities...\n",
    "\n",
    "![Xarray data model](assets/xarray-dataset-diagram.png \"Xarray data model\")\n",
    "\n",
    "(https://xarray.pydata.org)\n",
    "\n",
    "---"
   ]
  },
  {
   "cell_type": "code",
   "execution_count": null,
   "metadata": {},
   "outputs": [],
   "source": []
  }
 ],
 "metadata": {
  "kernelspec": {
   "display_name": "Python 3",
   "language": "python",
   "name": "python3"
  },
  "language_info": {
   "codemirror_mode": {
    "name": "ipython",
    "version": 3
   },
   "file_extension": ".py",
   "mimetype": "text/x-python",
   "name": "python",
   "nbconvert_exporter": "python",
   "pygments_lexer": "ipython3",
   "version": "3.7.6"
  }
 },
 "nbformat": 4,
 "nbformat_minor": 4
}
