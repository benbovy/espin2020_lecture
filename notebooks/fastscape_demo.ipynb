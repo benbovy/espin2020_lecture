{
 "cells": [
  {
   "cell_type": "markdown",
   "metadata": {},
   "source": [
    "# Fastscape (and Xarray-simlab)\n",
    "\n",
    "A short demo of interactive model exploration using Xarray-simlab and Fastscape.\n",
    "\n",
    "More info: https://fastscape.org/"
   ]
  },
  {
   "cell_type": "code",
   "execution_count": null,
   "metadata": {},
   "outputs": [],
   "source": [
    "import matplotlib.pyplot as plt\n",
    "import numpy as np\n",
    "import xarray as xr\n",
    "import xsimlab as xs\n",
    "\n",
    "from fastscape.models import basic_model"
   ]
  },
  {
   "cell_type": "markdown",
   "metadata": {},
   "source": [
    "## Choose and customize a fastscape LEM"
   ]
  },
  {
   "cell_type": "code",
   "execution_count": null,
   "metadata": {},
   "outputs": [],
   "source": [
    "basic_model.visualize(show_inputs=True)"
   ]
  },
  {
   "cell_type": "code",
   "execution_count": null,
   "metadata": {},
   "outputs": [],
   "source": [
    "from fastscape.processes import MultipleFlowRouter\n",
    "\n",
    "model = basic_model.update_processes({'flow': MultipleFlowRouter})"
   ]
  },
  {
   "cell_type": "code",
   "execution_count": null,
   "metadata": {},
   "outputs": [],
   "source": [
    "model.visualize(show_inputs=True)"
   ]
  },
  {
   "cell_type": "code",
   "execution_count": null,
   "metadata": {},
   "outputs": [],
   "source": []
  },
  {
   "cell_type": "markdown",
   "metadata": {},
   "source": [
    "## Run a single simulation using some reference setup\n",
    "\n",
    "This serves as a basis for simulations that will be run further below in this notebook\n",
    "\n",
    "Let's create a simulation setup using the `model` object create above..."
   ]
  },
  {
   "cell_type": "code",
   "execution_count": null,
   "metadata": {},
   "outputs": [],
   "source": [
    "in_ds = xs.create_setup(\n",
    "    model=model,\n",
    "    clocks={\n",
    "        'tstep': np.linspace(0., 1e6, 101),   # time steps in years\n",
    "        'time': np.linspace(0., 1e6, 51),     # output snapshots every 2 steps \n",
    "    },\n",
    "    master_clock='tstep',\n",
    "    input_vars={\n",
    "        'grid__shape': [201, 201],\n",
    "        'grid__length': [2e4, 2e4],\n",
    "        'boundary__status': ['looped', 'looped', 'fixed_value', 'fixed_value'],\n",
    "        'uplift__rate': 1e-3,\n",
    "        'spl__k_coef': 1e-4,\n",
    "        'diffusion__diffusivity': 1e-1,\n",
    "    },\n",
    "    output_vars={\n",
    "        'topography__elevation': 'time',\n",
    "        'drainage__area': 'time',\n",
    "    }\n",
    ")"
   ]
  },
  {
   "cell_type": "markdown",
   "metadata": {},
   "source": [
    "The simulation setup is stored into a `xarray.Dataset` object"
   ]
  },
  {
   "cell_type": "code",
   "execution_count": null,
   "metadata": {},
   "outputs": [],
   "source": [
    "in_ds"
   ]
  },
  {
   "cell_type": "markdown",
   "metadata": {},
   "source": [
    "Let's run the model..."
   ]
  },
  {
   "cell_type": "code",
   "execution_count": null,
   "metadata": {},
   "outputs": [],
   "source": [
    "with xs.monitoring.ProgressBar():\n",
    "    out_ds = in_ds.xsimlab.run(model=model)"
   ]
  },
  {
   "cell_type": "markdown",
   "metadata": {},
   "source": [
    "The simulation outputs are stored in another `xarray.Dataset`"
   ]
  },
  {
   "cell_type": "code",
   "execution_count": null,
   "metadata": {},
   "outputs": [],
   "source": [
    "out_ds"
   ]
  },
  {
   "cell_type": "markdown",
   "metadata": {},
   "source": [
    "Let's plot the results using a small utility function based on Holoviews/HvPlot. The colormap shows the logarithm of drainage area. "
   ]
  },
  {
   "cell_type": "code",
   "execution_count": null,
   "metadata": {},
   "outputs": [],
   "source": [
    "from xshade import plot_variable_shaded\n",
    "\n",
    "plot_variable_shaded(out_ds, 'drainage__area', log=True, cmap=plt.cm.Blues)"
   ]
  },
  {
   "cell_type": "markdown",
   "metadata": {},
   "source": [
    "## Explore the influence of flow routing slope partition exponent the on modelled topography\n",
    "\n",
    "Let's setup and run a batch of simulations in parallel where we vary the value for the flow routing slope partition exponent."
   ]
  },
  {
   "cell_type": "code",
   "execution_count": null,
   "metadata": {},
   "outputs": [],
   "source": []
  },
  {
   "cell_type": "code",
   "execution_count": null,
   "metadata": {},
   "outputs": [],
   "source": [
    "in_vars = {\n",
    "    'flow__slope_exp': (\"flow__slope_exp\", np.arange(0., 8.))   # dimension + values\n",
    "}\n",
    "\n",
    "\n",
    "with model:\n",
    "    out_ds2 = (\n",
    "        in_ds\n",
    "        .xsimlab.update_vars(input_vars=in_vars)\n",
    "        .xsimlab.run(batch_dim=\"flow__slope_exp\",\n",
    "                     store=\"flow_runs.zarr\",\n",
    "                     parallel=True)\n",
    "    )"
   ]
  },
  {
   "cell_type": "code",
   "execution_count": null,
   "metadata": {},
   "outputs": [],
   "source": [
    "out_ds2"
   ]
  },
  {
   "cell_type": "code",
   "execution_count": null,
   "metadata": {},
   "outputs": [],
   "source": [
    "plot_variable_shaded(out_ds2, 'drainage__area', batch_dim=\"flow__slope_exp\",\n",
    "                     log=True, cmap=plt.cm.Blues)"
   ]
  },
  {
   "cell_type": "code",
   "execution_count": null,
   "metadata": {},
   "outputs": [],
   "source": []
  },
  {
   "cell_type": "markdown",
   "metadata": {},
   "source": [
    "## Explore variable block uplift rates"
   ]
  },
  {
   "cell_type": "markdown",
   "metadata": {},
   "source": [
    "### Time varying values\n",
    "\n",
    "We can provide time varying values for most model parameters (excluding model inputs such as grid size).\n",
    "\n",
    "For example, let's force the model with a sudden change (2x decrease) in uplift rate:"
   ]
  },
  {
   "cell_type": "code",
   "execution_count": null,
   "metadata": {},
   "outputs": [],
   "source": [
    "# we can leverage the xarray `.where` function here\n",
    "\n",
    "u_t = in_ds.uplift__rate.where(in_ds.tstep < 5e5,\n",
    "                               in_ds.uplift__rate / 2)"
   ]
  },
  {
   "cell_type": "code",
   "execution_count": null,
   "metadata": {},
   "outputs": [],
   "source": [
    "u_t.plot();"
   ]
  },
  {
   "cell_type": "code",
   "execution_count": null,
   "metadata": {},
   "outputs": [],
   "source": [
    "in_vars = {'uplift__rate': u_t}\n",
    "\n",
    "with model, xs.monitoring.ProgressBar():\n",
    "    out_ds3 = (\n",
    "        in_ds\n",
    "         .xsimlab.update_vars(input_vars=in_vars)\n",
    "         .xsimlab.run()\n",
    "    )"
   ]
  },
  {
   "cell_type": "code",
   "execution_count": null,
   "metadata": {},
   "outputs": [],
   "source": [
    "plot_variable_shaded(out_ds3, 'topography__elevation',\n",
    "                     cmap=plt.cm.gist_earth, clim=(0, 300))"
   ]
  },
  {
   "cell_type": "code",
   "execution_count": null,
   "metadata": {},
   "outputs": [],
   "source": [
    "(out_ds3\n",
    " .topography__elevation.sel(x=[0.5e4, 1e4, 1.5e4])\n",
    " .hvplot(x='y', y='topography__elevation',\n",
    "         groupby='time', by='x',\n",
    "         frame_width=400, frame_height=300)\n",
    " .redim.range(topography__elevation=(0, 300))\n",
    ")"
   ]
  },
  {
   "cell_type": "markdown",
   "metadata": {},
   "source": [
    "### Time + space varying values"
   ]
  },
  {
   "cell_type": "markdown",
   "metadata": {},
   "source": [
    "The `uplift__rate` parameter also accepts values defined on a 2D grid, that we can combine with the time (steps) dimension.\n",
    "\n",
    "For example, let's gradually increase the uplift towards the center of the grid:"
   ]
  },
  {
   "cell_type": "code",
   "execution_count": null,
   "metadata": {},
   "outputs": [],
   "source": [
    "# use a 2-d gaussian\n",
    "# note: we can do arithmetic operations with xarray\n",
    "#       (like numpy, it supports broadcasting)\n",
    "\n",
    "u_txy = u_t + u_t * np.exp(-((out_ds.y - 1e4)**2 / 3e7 + (out_ds.x - 1e4)**2 / 3e7))"
   ]
  },
  {
   "cell_type": "code",
   "execution_count": null,
   "metadata": {},
   "outputs": [],
   "source": [
    "u_txy"
   ]
  },
  {
   "cell_type": "code",
   "execution_count": null,
   "metadata": {},
   "outputs": [],
   "source": [
    "(u_txy\n",
    " .isel(tstep=[0, -1])\n",
    " .plot(col='tstep')\n",
    ");"
   ]
  },
  {
   "cell_type": "code",
   "execution_count": null,
   "metadata": {},
   "outputs": [],
   "source": [
    "(u_txy\n",
    " .sel(y=1e4)\n",
    " .isel(tstep=[0, -1])\n",
    " .plot(col='tstep')\n",
    ");"
   ]
  },
  {
   "cell_type": "code",
   "execution_count": null,
   "metadata": {},
   "outputs": [],
   "source": [
    "in_vars = {'uplift__rate': u_txy}\n",
    "\n",
    "with model, xs.monitoring.ProgressBar():\n",
    "    out_ds4 = (\n",
    "        in_ds\n",
    "         .xsimlab.update_vars(input_vars=in_vars)\n",
    "         .xsimlab.run(check_dims=\"transpose\")\n",
    "    )"
   ]
  },
  {
   "cell_type": "code",
   "execution_count": null,
   "metadata": {},
   "outputs": [],
   "source": [
    "plot_variable_shaded(out_ds4, 'topography__elevation',\n",
    "                     cmap=plt.cm.gist_earth, clim=(0, 300))"
   ]
  },
  {
   "cell_type": "markdown",
   "metadata": {},
   "source": [
    "### Batch + time + space varying values\n",
    "\n",
    "We can add a 4th \"batch\" dimension for, e.g., testing various magnitudes of uplift rate:"
   ]
  },
  {
   "cell_type": "code",
   "execution_count": null,
   "metadata": {},
   "outputs": [],
   "source": [
    "# use xarray arithmetic operations + concatenate\n",
    "\n",
    "u_txy_batch = xr.concat([u_txy, u_txy * 2, u_txy * 3], \"batch\")"
   ]
  },
  {
   "cell_type": "code",
   "execution_count": null,
   "metadata": {},
   "outputs": [],
   "source": [
    "u_txy_batch"
   ]
  },
  {
   "cell_type": "code",
   "execution_count": null,
   "metadata": {},
   "outputs": [],
   "source": [
    "(u_txy_batch\n",
    " .isel(tstep=[0, -1])\n",
    " .plot(row='batch', col='tstep')\n",
    ");"
   ]
  },
  {
   "cell_type": "code",
   "execution_count": null,
   "metadata": {},
   "outputs": [],
   "source": [
    "in_vars = {'uplift__rate': u_txy_batch}\n",
    "\n",
    "with model:\n",
    "    out_ds5 = (\n",
    "        in_ds\n",
    "        .xsimlab.update_vars(input_vars=in_vars)\n",
    "        .xsimlab.run(batch_dim=\"batch\", store=\"uplit_runs.zarr\", parallel=True)\n",
    "        .assign_coords(batch=range(3))\n",
    "    )"
   ]
  },
  {
   "cell_type": "code",
   "execution_count": null,
   "metadata": {},
   "outputs": [],
   "source": [
    "plot_variable_shaded(out_ds5, 'topography__elevation',\n",
    "                     batch_dim=\"batch\",\n",
    "                     cmap=plt.cm.gist_earth, clim=(0, 500))"
   ]
  },
  {
   "cell_type": "code",
   "execution_count": null,
   "metadata": {},
   "outputs": [],
   "source": [
    "out_ds5"
   ]
  },
  {
   "cell_type": "code",
   "execution_count": null,
   "metadata": {},
   "outputs": [],
   "source": []
  }
 ],
 "metadata": {
  "kernelspec": {
   "display_name": "Python 3",
   "language": "python",
   "name": "python3"
  },
  "language_info": {
   "codemirror_mode": {
    "name": "ipython",
    "version": 3
   },
   "file_extension": ".py",
   "mimetype": "text/x-python",
   "name": "python",
   "nbconvert_exporter": "python",
   "pygments_lexer": "ipython3",
   "version": "3.7.6"
  }
 },
 "nbformat": 4,
 "nbformat_minor": 4
}
