{
 "cells": [
  {
   "cell_type": "markdown",
   "metadata": {
    "slideshow": {
     "slide_type": "slide"
    }
   },
   "source": [
    "# A Shallow overview of the Broader Python Ecosystem for Scientific Modelling\n",
    "\n",
    "Assets and drawbacks of a rich, quickly evolving ecosystem"
   ]
  },
  {
   "cell_type": "markdown",
   "metadata": {
    "slideshow": {
     "slide_type": "slide"
    }
   },
   "source": [
    "## About me\n",
    "\n",
    "<img src=\"assets/me.jpg\" alt=\"me\" width=\"150\"/>"
   ]
  },
  {
   "cell_type": "markdown",
   "metadata": {
    "slideshow": {
     "slide_type": "fragment"
    }
   },
   "source": [
    "- Graduated in physical geography / geomatics\n",
    "    - Coding, mainly for fun"
   ]
  },
  {
   "cell_type": "markdown",
   "metadata": {
    "slideshow": {
     "slide_type": "fragment"
    }
   },
   "source": [
    "- PhD in geomorphology (landscape evolution modelling)\n",
    "    - Coding to get the science done (... a lot of procrastination too)"
   ]
  },
  {
   "cell_type": "markdown",
   "metadata": {
    "slideshow": {
     "slide_type": "fragment"
    }
   },
   "source": [
    "- PostDoc in atmospheric science\n",
    "    - Developing software for scientific research, but that's not \"official\"\n",
    "    - Started contributing to Python scientific libraries (Xarray)"
   ]
  },
  {
   "cell_type": "markdown",
   "metadata": {
    "slideshow": {
     "slide_type": "fragment"
    }
   },
   "source": [
    "- Research software engineer\n",
    "  - Now that's official\n",
    "  - 2 years at GFZ-Potsdam, now self-employed (GFZ, GEOMAR, ULiège, NumFOCUS...)"
   ]
  },
  {
   "cell_type": "markdown",
   "metadata": {
    "slideshow": {
     "slide_type": "slide"
    }
   },
   "source": [
    "## Outline\n",
    "\n",
    "How does look like the Python scientific ecosystem?\n",
    "\n",
    "- Focus on array librairies and visualization libraries\n",
    "\n",
    "What can we do with it?\n",
    "\n",
    "- Demo using the Xarray library\n",
    "- Demo of surface process modelling using Fastscape and Xarray-simlab\n",
    "\n",
    "How challenging it is for users to learn / leverage it?\n",
    "\n",
    "- Some advice.."
   ]
  },
  {
   "cell_type": "markdown",
   "metadata": {
    "slideshow": {
     "slide_type": "slide"
    }
   },
   "source": [
    "## The Python scientific stack\n",
    "\n",
    "### Core libraries vs. domain-specific libraries\n",
    "\n",
    "<br>\n",
    "<img src=\"assets/python-scientific-stack.png\" alt=\"python scientific stack\" width=900 />\n",
    "\n",
    "(modified from Jake VanderPlas PyCon 2017)"
   ]
  },
  {
   "cell_type": "markdown",
   "metadata": {
    "slideshow": {
     "slide_type": "slide"
    }
   },
   "source": [
    "## Core libraries: beyond NumPy and Matplotlib...\n",
    "\n",
    "A lot of new tools for tackling recent problems or leverage recent technologies:\n",
    "\n",
    "- Big data\n",
    "- CPU vs. GPU (vs. TPU)\n",
    "- Laptop vs. HPC vs. Cloud\n",
    "- Interactive computing, modern web technologies\n",
    "- Reproducibility, Collaborative research\n",
    "- ...\n",
    "\n",
    "\n",
    "Mainly driven by the emergence of data science... but why couldn't we (modellers, geoscientists) benefit from it too?"
   ]
  },
  {
   "cell_type": "markdown",
   "metadata": {
    "slideshow": {
     "slide_type": "slide"
    }
   },
   "source": [
    "## Array libraries\n",
    "\n",
    "<br><br>\n",
    "\n",
    "<img src=\"assets/array-libraries.png\" alt=\"array libraries\"/>\n",
    "\n",
    "(https://numpy.org)"
   ]
  },
  {
   "cell_type": "markdown",
   "metadata": {
    "slideshow": {
     "slide_type": "slide"
    }
   },
   "source": [
    "## Scientific visualization libraries\n",
    "\n",
    "<br>\n",
    "<img src=\"assets/pyviz-libraries.png\" alt=\"python viz libraries\" width=1600 />\n",
    "\n",
    "(https://pyviz.org)"
   ]
  },
  {
   "cell_type": "markdown",
   "metadata": {
    "slideshow": {
     "slide_type": "slide"
    }
   },
   "source": [
    "## Demo: Xarray, Xarray-simlab, Fastscape"
   ]
  },
  {
   "cell_type": "markdown",
   "metadata": {
    "slideshow": {
     "slide_type": "slide"
    }
   },
   "source": [
    "## Another way to look at the Python scientific ecosystem\n",
    "\n",
    "Messy (organically evolving)\n",
    "\n",
    "<br>\n",
    "<img src=\"assets/python-install-xkcd.png\" alt=\"python-install-xkcd\" width=800 />\n",
    "\n",
    "(https://xkcd.com/1987/)"
   ]
  },
  {
   "cell_type": "markdown",
   "metadata": {
    "slideshow": {
     "slide_type": "slide"
    }
   },
   "source": [
    "## Another way to look at the Python scientific ecosystem\n",
    "\n",
    "Complex (lots of abstractions)\n",
    "\n",
    "<br>\n",
    "<img src=\"assets/array-libraries-graph.png\" alt=\"array libraries graph\" width=800 />\n",
    "\n",
    "([Stephan Hoyer](https://gist.github.com/shoyer/7936a93843354299368145e8266c5d83))"
   ]
  },
  {
   "cell_type": "markdown",
   "metadata": {
    "slideshow": {
     "slide_type": "slide"
    }
   },
   "source": [
    "## How to deal with it? How to improve it?\n",
    "\n",
    "Developers / Maintainers:\n",
    "\n",
    "- Towards some re-unification?\n",
    "  - Numpy was already the result of the unification of two array libraries\n",
    "  \n",
    "- Promote / develop \"low-level\" tools (verbose but based on a few concepts) vs. \"high-level\" tools (very productive but hiding many things behind levels of abstraction)\n",
    "\n",
    "  - A hard debate. Both approaches have pro and cons\n",
    "  \n",
    "- Better documentation (user guides!)"
   ]
  },
  {
   "cell_type": "markdown",
   "metadata": {
    "slideshow": {
     "slide_type": "slide"
    }
   },
   "source": [
    "## How to deal with it? How to improve it?\n",
    "\n",
    "Users:\n",
    "\n",
    "- There's no magic bullet\n",
    "  - Using the ecosystem properly and/or \"at its full capacity\" takes time, effort and may often give frustration\n",
    "  \n",
    "- Try using the right tool for your problem\n",
    "  - No need to always use cutting-edge libraries\n",
    "  - Stick with Numpy/Matplotlib is ok, still the best option in many cases!\n",
    "  - But avoid reinventing the wheel\n",
    "  - Know the right tool requires experience\n",
    "\n",
    "- Ask for help. Really!\n",
    "  - The community of developers in the Python scientific ecosystem is generally very friendly!\n",
    "  - New user? Not much experience with programming? That's perfectly fine, you're welcome!\n",
    "  - Hopefully there will be more and more research software engineers able to help at various levels (research teams, institutes, eSience centers, international communities and networks like CSDMS or [RSE](https://researchsoftware.org/))\n",
    "  \n",
    "- Become an open-source contributor? A research software engineer?\n",
    "  "
   ]
  },
  {
   "cell_type": "markdown",
   "metadata": {
    "slideshow": {
     "slide_type": "slide"
    }
   },
   "source": [
    "## Thank you!\n",
    "\n",
    "Let's get in touch:\n",
    "\n",
    "- https://github.com/benbovy/\n",
    "- https://fastscape.org/"
   ]
  }
 ],
 "metadata": {
  "celltoolbar": "Slideshow",
  "kernelspec": {
   "display_name": "Python [conda env:fastscape-short-course-202004]",
   "language": "python",
   "name": "conda-env-fastscape-short-course-202004-py"
  },
  "language_info": {
   "codemirror_mode": {
    "name": "ipython",
    "version": 3
   },
   "file_extension": ".py",
   "mimetype": "text/x-python",
   "name": "python",
   "nbconvert_exporter": "python",
   "pygments_lexer": "ipython3",
   "version": "3.7.6"
  },
  "rise": {
   "theme": "simple",
   "transition": "none"
  }
 },
 "nbformat": 4,
 "nbformat_minor": 4
}
